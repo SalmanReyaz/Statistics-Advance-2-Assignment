{
 "cells": [
  {
   "cell_type": "markdown",
   "id": "ea2cf292",
   "metadata": {},
   "source": [
    "# Q1: What are the Probability Mass Function (PMF) and Probability Density Function (PDF)? Explain with an example."
   ]
  },
  {
   "cell_type": "markdown",
   "id": "ec69762a",
   "metadata": {},
   "source": [
    "# Probability Mass Function (PMF):-The PMF is used to describe the probability distribution of a discrete random variable. It assigns a probability to each possible outcome of the random variable. \n",
    "\n",
    "\n",
    "## `Eg:- Rolling a Dice {1,2,3,4,5,6}`\n",
    "\n",
    "`Pr(1)=1/6`\n",
    "\n",
    "`Pr(2)=1/6`\n",
    "\n",
    "`Pr(3)=1/6`\n",
    "\n",
    "`Pr(4)=1/6`\n",
    "\n",
    "`Pr(5)=1/6`\n",
    "\n",
    "`Pr(6)=1/6`\n",
    "\n",
    "## In this example, each value of X (1, 2, 3, 4, 5, 6) has an equal probability of 1/6 of occurring when rolling the dice.\n",
    "\n",
    "\n",
    "\n",
    "`Probability Density Function (PDF)`:- __The PDF is used to describe the probability distribution of a continuous random variable. Unlike the PMF, which assigns probabilities to specific values, the PDF assigns probabilities to intervals or ranges of values. It represents the likelihood that the random variable falls within a certain range.__\n",
    "\n",
    "## Eg:- The heights of the Student in Classroom.\n",
    "\n"
   ]
  },
  {
   "cell_type": "code",
   "execution_count": null,
   "id": "63a2a9ee",
   "metadata": {},
   "outputs": [],
   "source": []
  },
  {
   "cell_type": "markdown",
   "id": "7f365377",
   "metadata": {},
   "source": [
    "# Q2: What is Cumulative Density Function (CDF)? Explain with an example. Why CDF is used?"
   ]
  },
  {
   "cell_type": "raw",
   "id": "8c4eb4df",
   "metadata": {},
   "source": [
    "CCThe cumulative distribution function is used to describe the probability distribution of random variables. It can be used to describe the probability for a discrete, continuous or mixed variable. It is obtained by summing up the probability density function and getting the cumulative probability for a random variable.\n",
    "\n",
    "The cumulative distribution function of a random variable to be calculated at a point x is represented as Fx(X). It is the probability that the random variable X will take a value less than or equal to x.\n",
    "\n",
    "\n",
    "Example:\n",
    "\n",
    "Let's consider a simple example using a discrete random variable. Suppose we have a six-sided die, and the random variable X represents the outcome when rolling the die. The CDF for X is as follows:\n",
    "\n",
    "F(x) = P(X ≤ x)\n",
    "\n",
    "F(1) = Pr(X ≤ 1) = 1/6\n",
    "F(2) = Pr(X ≤ 2) = 2/6\n",
    "F(3) = Pr(X ≤ 3) = 3/6\n",
    "F(4) = Pr(X ≤ 4) = 4/6\n",
    "F(5) = Pr(X ≤ 5) = 5/6\n",
    "F(6) = Pr(X ≤ 6) = 6/6\n",
    "\n",
    "\n",
    "\n",
    "Cumulative Probability: The CDF gives you a cumulative view of the probability distribution. It tells you how the probabilities accumulate as you move along the range of possible values of the random variable. \n",
    "\n",
    "Percentiles: The CDF can be used to find percentiles of the distribution. The 50th percentile, for example, represents the median of the distribution and is the value of x for which F(x) = 0.5.\n",
    "\n",
    "Cumulative distribution functions are excellent for providing probabilities that the next observation will be less than or equal to the value you specify. This ability can help you make decisions that incorporate uncertainty.\n",
    "\n",
    "Probability of Ranges: The CDF allows you to easily calculate the probability that the random variable falls within a specific range. For example, if you want to find the probability that X is between a and b, you can subtract F(a) from \n",
    "F(b): P(a ≤ X ≤ b) = F(b) - F(a)."
   ]
  },
  {
   "cell_type": "code",
   "execution_count": null,
   "id": "a97a7c49",
   "metadata": {},
   "outputs": [],
   "source": []
  },
  {
   "cell_type": "markdown",
   "id": "2f58fb26",
   "metadata": {},
   "source": [
    "# Q3: What are some examples of situations where the normal distribution might be used as a model? Explain how the parameters of the normal distribution relate to the shape of the distribution."
   ]
  },
  {
   "cell_type": "markdown",
   "id": "23f167c8",
   "metadata": {},
   "source": [
    "The normal distribution, also known as the Gaussian distribution or bell curve, is a widely used probability distribution in statistics and data analysis. It is characterized by its symmetric bell-shaped curve,\n",
    "\n",
    "\n",
    "\n",
    "## Here are some examples of situations where the normal distribution might be used as a model:\n",
    "\n",
    "\n",
    "`Height of Individuals: The heights of a large population of adults often follow a normal distribution. The parameters of the distribution (mean and standard deviation) help describe the average height and the spread of heights in the population.`\n",
    "\n",
    "\n",
    "`IQ Scores: Intelligence quotient (IQ) scores are often assumed to follow a normal distribution with a mean of 100 and a standard deviation of 15. This allows for the interpretation of IQ scores in terms of percentiles.`\n",
    "\n",
    "\n",
    "`Natural Phenomena: Various natural phenomena, like the distribution of birth weights, the distribution of lifetimes of certain electronic components, and the distribution of errors in scientific experiments, can be approximated by the normal distribution.`\n",
    "\n",
    "\n",
    "\n",
    "# Parameters of the Normal Distribution:\n",
    "`The normal distribution is characterized by two parameters: the mean (μ) and the standard deviation (σ). These parameters have a significant impact on the shape and characteristics of the distribution:`\n",
    "\n",
    "\n",
    "## Mean (μ): The mean represents the center of the distribution. It is the average or expected value of the random variable. In a normal distribution, the mean is also the point of symmetry. Shifting the mean to the left or right on the x-axis will shift the entire distribution accordingly.\n",
    "\n",
    "### Standard Deviation (σ): The standard deviation controls the spread or dispersion of the distribution. A smaller standard deviation results in a narrower, taller curve, while a larger standard deviation results in a wider, flatter curve. "
   ]
  },
  {
   "cell_type": "code",
   "execution_count": null,
   "id": "25f4c5bc",
   "metadata": {},
   "outputs": [],
   "source": []
  },
  {
   "cell_type": "markdown",
   "id": "0a52f426",
   "metadata": {},
   "source": [
    "# Q4: Explain the importance of Normal Distribution. Give a few real-life examples of Normal Distribution."
   ]
  },
  {
   "cell_type": "markdown",
   "id": "2c87fa4b",
   "metadata": {},
   "source": [
    "Normal Distribution is also known as Gaussian Distribution It the most important probability distribution in statistics for independent, random variables. Most people recognize its familiar bell-shaped curve in statistical reports.\n",
    "\n",
    "Many statistical tests, such as the t-test, z-test, and ANOVA, are based on assumptions of normality. Using the normal distribution as a model can lead to more accurate and reliable results when conducting these tests.\n",
    "\n",
    "\n",
    "\n",
    "\n",
    "The real life examples of Normal Distribution\n",
    "\n",
    "\n",
    "\n",
    "\n",
    "- The height of people is an example of normal distribution. Most of the people in a specific population are of average height.\n",
    "\n",
    "- A fair rolling of dice is also a good example of normal distribution\n",
    "\n",
    "- Flipping a coin is one of the oldest methods for settling disputes. We all have flipped a coin before a match or game.\n",
    "\n",
    "- Blood pressure generally follows a Gaussian distribution (normal) in the general population, and it makes Gaussian mixture models a suitable candidate for modelling blood pressure behaviour.\n",
    "\n",
    "- Student’s Average Report"
   ]
  },
  {
   "cell_type": "code",
   "execution_count": null,
   "id": "7beb9e25",
   "metadata": {},
   "outputs": [],
   "source": []
  },
  {
   "cell_type": "markdown",
   "id": "5c4d2f8c",
   "metadata": {},
   "source": [
    "# Q5: What is Bernaulli Distribution? Give an Example. What is the difference between Bernoulli Distribution and Binomial Distribution?"
   ]
  },
  {
   "cell_type": "markdown",
   "id": "a1ebb1c7",
   "metadata": {},
   "source": [
    "## `A Bernoulli distribution is a discrete probability distribution with only two possible values for the random variable. The distribution has only two possible outcomes and a single trial which is called a Bernoulli trial. The two possible outcomes in Bernoulli distribution are labeled by n=0 and n=1 in which n=1 (success) occurs with probability p and n=0 (failure) occurs with probability 1-p, and since it is a probability value so 0<=p<=1.`\n",
    "\n",
    "\n",
    "Examples:--\n",
    "\n",
    "flipping a fair coin, where \"Heads\" is considered a success (1) and \"Tails\" is considered a failure (0). The probability of getting a \"Heads\" (success) is p = 0.5, and the probability of getting a \"Tails\" (failure) is 1 - p = 0.5. This situation can be modeled using a Bernoulli distribution, and the random variable X represents the outcome of a single coin flip.\n",
    "\n",
    "\n",
    "\n",
    "\n",
    "Difference betweeb Bernoulli Distribution and Binomial Distribution:-\n",
    "\n",
    "- Bernoulli deals with the outcome of the single trial of the event, whereas Binomial deals with the outcome of the multiple trials of the single event.\n",
    "\n",
    "\n",
    "- Bernoulli is used when the outcome of an event is required for only one time, whereas the Binomial is used when the outcome of an event is required multiple times."
   ]
  },
  {
   "cell_type": "code",
   "execution_count": null,
   "id": "d5b12000",
   "metadata": {
    "scrolled": true
   },
   "outputs": [],
   "source": []
  },
  {
   "cell_type": "markdown",
   "id": "e812daab",
   "metadata": {},
   "source": [
    "# Q6. Consider a dataset with a mean of 50 and a standard deviation of 10. If we assume that the dataset is normally distributed, what is the probability that a randomly selected observation will be greater than 60? Use the appropriate formula and show your calculations."
   ]
  },
  {
   "cell_type": "code",
   "execution_count": 21,
   "id": "fb1e9e79",
   "metadata": {},
   "outputs": [
    {
     "name": "stdout",
     "output_type": "stream",
     "text": [
      "The probability that X > 60 is approximately: 0.15865525393145707\n"
     ]
    }
   ],
   "source": [
    "import scipy.stats as stats\n",
    "\n",
    "# Define the parameters of the normal distribution\n",
    "mean = 50\n",
    "std_dev = 10\n",
    "\n",
    "# Value you want to find the probability for\n",
    "x = 60\n",
    "\n",
    "# Calculate the z-score\n",
    "z_score = (x - mean) / std_dev\n",
    "\n",
    "# Calculate the probability using the cumulative distribution function (1 - CDF)\n",
    "probability = 1 - stats.norm.cdf(z_score)\n",
    "\n",
    "print(f\"The probability that X > 60 is approximately: {probability:}\")\n"
   ]
  },
  {
   "cell_type": "code",
   "execution_count": null,
   "id": "963ea847",
   "metadata": {},
   "outputs": [],
   "source": []
  },
  {
   "cell_type": "markdown",
   "id": "58e2d969",
   "metadata": {},
   "source": [
    "# Q7: Explain uniform Distribution with an example."
   ]
  },
  {
   "cell_type": "markdown",
   "id": "46e7e010",
   "metadata": {},
   "source": [
    "A continuous probability distribution is a Uniform distribution and is related to the events which are equally likely to occur. It is defined by two parameters, x and y, where x = minimum value and y = maximum value. It is generally denoted by u(x, y).\n",
    "\n",
    "\n",
    "\n",
    "\n",
    "Suppose you have a fair six-sided die (a standard die used in board games). The outcome when rolling this die is a classic example of a discrete uniform distribution.\n",
    "\n",
    "In this case, the uniform distribution is defined over the integers 1 to 6, where each outcome (1, 2, 3, 4, 5, or 6) has an equal probability of 1/6 because the die is fair. The probability mass function (PMF) for this uniform distribution is as follows:\n",
    "\n",
    " `Pr(1)=1/6`\n",
    "\n",
    "`Pr(2)=1/6`\n",
    "\n",
    "`Pr(3)=1/6`\n",
    "\n",
    "`Pr(4)=1/6`\n",
    "\n",
    "`Pr(5)=1/6`\n",
    "\n",
    "`Pr(6)=1/6`\n",
    "\n",
    "# In this example, each number on the die (1, 2, 3, 4, 5, 6) has an equal chance of 1/6 of being rolled. This uniform distribution ensures that every outcome is equally likely."
   ]
  },
  {
   "cell_type": "code",
   "execution_count": null,
   "id": "2b280b7f",
   "metadata": {},
   "outputs": [],
   "source": []
  },
  {
   "cell_type": "markdown",
   "id": "801833a8",
   "metadata": {},
   "source": [
    "# Q8: What is the z score? State the importance of the z score."
   ]
  },
  {
   "cell_type": "markdown",
   "id": "59699fd7",
   "metadata": {},
   "source": [
    "A z-score measures the distance between a data point and the mean using standard deviations. Z-scores can be positive or negative. The sign tells you whether the observation is above or below the mean.\n",
    "\n",
    "\n",
    "\n",
    "\n",
    "# Importance of z-score:----\n",
    "\n",
    "\n",
    "- Z-scores are used to normalize data by transforming it into a standard scale with a mean of 0 and a standard deviation of 1. \n",
    "\n",
    "\n",
    "\n",
    "\n",
    "- Z-scores help identify outliers or extreme data points. Data points with Z-scores significantly above or below a certain threshold are considered outliers and may warrant further investigation.\n",
    "\n",
    "\n",
    "- Z-scores are often used in educational and psychological assessments to standardize test scores. They help interpret test results relative to a standardized distribution.\n",
    " \n",
    "- Z-scores are applied in quality control and process monitoring to assess whether measurements fall within an acceptable range of variation."
   ]
  },
  {
   "cell_type": "code",
   "execution_count": null,
   "id": "06c7f2f4",
   "metadata": {},
   "outputs": [],
   "source": []
  },
  {
   "cell_type": "markdown",
   "id": "bcf4352f",
   "metadata": {},
   "source": [
    "# Q9: What is Central Limit Theorem? State the significance of the Central Limit Theorem."
   ]
  },
  {
   "cell_type": "markdown",
   "id": "e05e6d96",
   "metadata": {},
   "source": [
    "The central limit theorem, which is a statistical theory, states that when a large sample size has a finite variance, the samples will be normally distributed, and the mean of samples will be approximately equal to the mean of the whole population.\n",
    "\n",
    "\n",
    "# The CLT has several applications. Look at the places where you can use it.\n",
    "\n",
    "- Political/election polling is a great example of how you can use CLT. These polls are used to estimate the number of people who support a specific candidate. You may have seen these results with confidence intervals on news channels. The CLT aids in this calculation.\n",
    "- You use the CLT in various census fields to calculate various population details, such as family income, electricity consumption, individual salaries, and so on.\n",
    "\n",
    "-  In industries like manufacturing and quality control, the CLT is used to monitor and control processes. It helps determine if a process is in control or if there are significant deviations from expected values."
   ]
  },
  {
   "cell_type": "code",
   "execution_count": null,
   "id": "7794ab50",
   "metadata": {},
   "outputs": [],
   "source": []
  },
  {
   "cell_type": "markdown",
   "id": "a6b09a7f",
   "metadata": {},
   "source": [
    "# Q10: State the assumptions of the Central Limit Theorem."
   ]
  },
  {
   "cell_type": "markdown",
   "id": "18ba62af",
   "metadata": {},
   "source": [
    "- The data should be collected through a random sampling process. This means that each observation in the sample is selected independently and with equal probability from the population.\n",
    "\n",
    "\n",
    "- The population from which the samples are drawn should have a finite variance. If the variance is infinite or undefined, the CLT may not apply.\n",
    "\n",
    "- The population distribution should not be highly skewed or contain extreme outliers. Extreme departures from normality can affect the convergence to a normal distribution."
   ]
  },
  {
   "cell_type": "code",
   "execution_count": null,
   "id": "1adf1f1a",
   "metadata": {},
   "outputs": [],
   "source": []
  }
 ],
 "metadata": {
  "kernelspec": {
   "display_name": "Python 3 (ipykernel)",
   "language": "python",
   "name": "python3"
  },
  "language_info": {
   "codemirror_mode": {
    "name": "ipython",
    "version": 3
   },
   "file_extension": ".py",
   "mimetype": "text/x-python",
   "name": "python",
   "nbconvert_exporter": "python",
   "pygments_lexer": "ipython3",
   "version": "3.9.12"
  }
 },
 "nbformat": 4,
 "nbformat_minor": 5
}
